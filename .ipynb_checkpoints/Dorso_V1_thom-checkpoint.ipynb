{
 "cells": [
  {
   "cell_type": "markdown",
   "metadata": {},
   "source": [
    "# Neuron circuits for Dorsophila\n",
    "Tielin Zhang, 2019-6-13\n",
    "\n",
    "Contains three groups of neurons:\n",
    "\n",
    "(1)For information input group;\n",
    "\n",
    "(2)For the inhibitory tuning group;\n",
    "\n",
    "(3)for informatin output group;"
   ]
  },
  {
   "cell_type": "code",
   "execution_count": 1,
   "metadata": {},
   "outputs": [],
   "source": [
    "from brian2 import *\n",
    "import random\n",
    "%matplotlib inline"
   ]
  },
  {
   "cell_type": "code",
   "execution_count": 2,
   "metadata": {},
   "outputs": [
    {
     "data": {
      "text/latex": [
       "$50.0\\,\\mathrm{k}\\,\\mathrm{V}$"
      ],
      "text/plain": [
       "50. * kvolt"
      ]
     },
     "execution_count": 2,
     "metadata": {},
     "output_type": "execute_result"
    }
   ],
   "source": [
    "20*volt\n",
    "1000*amp\n",
    "1e6*volt\n",
    "1000*namp\n",
    "10*mA*5*Mohm"
   ]
  },
  {
   "cell_type": "code",
   "execution_count": 3,
   "metadata": {},
   "outputs": [],
   "source": [
    "start_scope()"
   ]
  },
  {
   "cell_type": "markdown",
   "metadata": {},
   "source": [
    "## PN Group (input, LIF model)\n",
    "\n",
    "A PN is modeled as the standard leaky integrate and fire (LIF) neuron. The membrane potential of a PN at time t is determined by the following differential equation, $\\frac{dV}{dt} = \\frac{(V0−V)}{\\tau}+ I$, where τm is the membrane time constant and V0 is the resting potential. When the membrane potential of a PN exceeds the threshold value Vth, the PN emits a spike and the value of the membrane potential is reset to Vreset. After the spike emission, the PN enters an absolute refractory period that lasts for Vres. The membrane potential of a PN stays at Vres during the refractory period. The parameters in the leaky integrate-and-fire neuron model are set as follows: tau=5 ms,V0=−60mV,Vth=−45mV, Vreset=−80mV,and Vres =1 ms.\n",
    "\n",
    "Around 150-200 PN neurons, or 100 neurons ? which one?"
   ]
  },
  {
   "cell_type": "code",
   "execution_count": 4,
   "metadata": {},
   "outputs": [],
   "source": [
    "tau = 5*ms\n",
    "V0 = -60*mV\n",
    "Vth = -45*mV\n",
    "Vres = -80*mV\n",
    "I = 0*volt\n",
    "eqs_pn = '''\n",
    "dv/dt = (V0-v)/tau + I: volt\n",
    "'''\n",
    "G_pn = NeuronGroup(100, eqs_pn, threshold='v>Vth', reset='v=Vres', refractory=1*ms, method='Euler') #method='Euler' linear\n",
    "G_pn.v = -60*mV # initial value"
   ]
  },
  {
   "cell_type": "markdown",
   "metadata": {},
   "source": [
    "## KC Group (output, LIF model)\n",
    "\n",
    "Here we use the similar LIF model for simplification.\n",
    "\n",
    "Around 2500 KC neurons.\n"
   ]
  },
  {
   "cell_type": "code",
   "execution_count": 5,
   "metadata": {},
   "outputs": [],
   "source": [
    "tau = 5*ms\n",
    "V0 = -60*mV\n",
    "Vth = -45*mV\n",
    "Vres = -80*mV\n",
    "# I = 0*volt\n",
    "eqs_kc = '''\n",
    "dv/dt = (V0-v)/tau : volt\n",
    "'''\n",
    "G_kc = NeuronGroup(2500, eqs_kc, threshold='v>Vth', reset='v=Vres', refractory=1*ms, method='Euler') #method='Euler' linear\n",
    "G_kc.v = -60*mV # initial value"
   ]
  },
  {
   "cell_type": "markdown",
   "metadata": {},
   "source": [
    "### APL Group (tuning inhibition, LIF model)"
   ]
  },
  {
   "cell_type": "code",
   "execution_count": 6,
   "metadata": {},
   "outputs": [],
   "source": [
    "tau = 5*ms\n",
    "V0 = -60*mV\n",
    "Vth = -45*mV\n",
    "Vres = -80*mV\n",
    "# I = 0*volt\n",
    "eqs_apl = '''\n",
    "dv/dt = (V0-v)/tau : volt\n",
    "'''\n",
    "G_apl = NeuronGroup(1, eqs_apl, threshold='v>Vth', reset='v=Vres', refractory=1*ms, method='Euler') #method='Euler' linear\n",
    "G_apl.v = -60*mV # initial value"
   ]
  },
  {
   "cell_type": "markdown",
   "metadata": {},
   "source": [
    "### Connection between PN to KC\n",
    "\n",
    "(1) PN->KC, each KC neuron accept mean 6 PN Axonal Terminal, \n",
    "\n",
    "(2) Big PN Axonal terminal to 20 KC neuron, \n",
    "\n",
    "(3) Small PN Axonal terminal to 8 KC neuron,\n",
    "\n",
    "You cannot fit both of these three conditions.!!"
   ]
  },
  {
   "cell_type": "code",
   "execution_count": 8,
   "metadata": {
    "scrolled": true
   },
   "outputs": [
    {
     "name": "stdout",
     "output_type": "stream",
     "text": [
      "99\n",
      "2495\n",
      "1880\n",
      "1880\n"
     ]
    },
    {
     "name": "stderr",
     "output_type": "stream",
     "text": [
      "WARNING    C:\\ProgramData\\Anaconda3\\lib\\site-packages\\Cython\\Compiler\\Main.py:367: FutureWarning: Cython directive 'language_level' not set, using 2 for now (Py2). This will change in a later release! File: C:\\Users\\Zhang\\.cython\\brian_extensions\\_cython_magic_36ef093112cd1b088f6c8d6bb9179d1a.pyx\n",
      "  tree = Parsing.p_module(s, pxd, full_module_name)\n",
      " [py.warnings]\n",
      "WARNING    Cannot use Cython, a test compilation failed: Microsoft Visual C++ 14.0 is required. Get it with \"Microsoft Visual C++ Build Tools\": https://visualstudio.microsoft.com/downloads/ (DistutilsPlatformError) [brian2.codegen.runtime.cython_rt.cython_rt.failed_compile_test]\n",
      "INFO       Cannot use compiled code, falling back to the numpy code generation target. Note that this will likely be slower than using compiled code. Set the code generation to numpy manually to avoid this message:\n",
      "prefs.codegen.target = \"numpy\" [brian2.devices.device.codegen_fallback]\n"
     ]
    },
    {
     "name": "stdout",
     "output_type": "stream",
     "text": [
      "mean KC accept : 0.752\n",
      "big PN axonal ternimal number distribution: \n"
     ]
    },
    {
     "data": {
      "text/plain": [
       "Text(0, 0.5, 'Numbers of axonal terminal')"
      ]
     },
     "execution_count": 8,
     "metadata": {},
     "output_type": "execute_result"
    },
    {
     "data": {
      "image/png": "[encoded data removed]",
      "text/plain": [
       "<Figure size 432x288 with 1 Axes>"
      ]
     },
     "metadata": {
      "needs_background": "light"
     },
     "output_type": "display_data"
    }
   ],
   "source": [
    "S_pk = Synapses(G_pn, G_kc, 'w : volt', on_pre='v_post += w')\n",
    "\n",
    "propertion = 0.9 # the big Pn proportion in source group\n",
    "bigPn = np.arange( 0, propertion*len(S_pk.source), 1) \n",
    "smallPn = np.arange( propertion*len(S_pk.source), len(S_pk.source), 1) \n",
    "\n",
    "arrayi = []\n",
    "arrayj = []\n",
    "for i in range(len(bigPn)):\n",
    "    bigKc = [random.randint(0,len(S_pk.target))-1 for _ in range(20)] # select 20 KC neuron\n",
    "    arrayi.extend([bigPn[i]]*20)\n",
    "    arrayj.extend(bigKc)\n",
    "for i in range(len(smallPn)):\n",
    "    smallKc = [random.randint(0,len(S_pk.target))-1 for _ in range(8)] # select 8 KC neuron\n",
    "    arrayi.extend([smallPn[i]]*8)\n",
    "    arrayj.extend(smallKc)\n",
    "arrayi = [int(i) for i in arrayi]\n",
    "arrayj = [int(j) for j in arrayj]\n",
    "\n",
    "print(max(arrayi))\n",
    "print(max(arrayj))\n",
    "\n",
    "print(len(arrayi))\n",
    "print(len(arrayj))\n",
    "\n",
    "S_pk.connect(i=arrayi, j=arrayj)\n",
    "# S.connect(condition='i!=j', p=0.06)\n",
    "# S.delay = 'j*2*ms'\n",
    "S_pk.w = '1*mV'\n",
    "\n",
    "print('mean KC accept : ' + str(len(S_pk.i)/G_kc.N)) # the mean number of KC accepted PN Axonal Terminal\n",
    "print('big PN axonal ternimal number distribution: ')\n",
    "\n",
    "# inarr = np.array(S.i)\n",
    "unique, counts = numpy.unique(S_pk.i, return_counts=True)\n",
    "plot(unique, counts)\n",
    "xlabel('PN neuron index')\n",
    "ylabel('Numbers of axonal terminal')\n"
   ]
  },
  {
   "cell_type": "markdown",
   "metadata": {},
   "source": [
    "### Connection APL-PN, APL->KC\n",
    "\n",
    "APL->PN, presynaptic inhibition, the bigger soma, the bigger inhibition. \n",
    "\n",
    "体积最小的抑制为0，体积最大的抑制设置为0.4（因为我们结构上观察到0-4个突触前抑制），只是这样的话PN terminal和KC的对应关系也要是线性分布（这部分数据我在整理）不知道程序语言描述上是否有困难。\n",
    "\n",
    "APL->KC, one to all inhibition;\n",
    "\n",
    "\n"
   ]
  },
  {
   "cell_type": "code",
   "execution_count": 9,
   "metadata": {},
   "outputs": [],
   "source": [
    "S_ap = Synapses(G_apl, G_pn, 'w : volt', on_pre='v_post -= w')\n",
    "\n",
    "# the i j is full connection ,but big pn with more inhibition, \n",
    "\n",
    "\n"
   ]
  }
 ],
 "metadata": {
  "kernelspec": {
   "display_name": "Python 3",
   "language": "python",
   "name": "python3"
  },
  "language_info": {
   "codemirror_mode": {
    "name": "ipython",
    "version": 3
   },
   "file_extension": ".py",
   "mimetype": "text/x-python",
   "name": "python",
   "nbconvert_exporter": "python",
   "pygments_lexer": "ipython3",
   "version": "3.7.3"
  }
 },
 "nbformat": 4,
 "nbformat_minor": 2
}
